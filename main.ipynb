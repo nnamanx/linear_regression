{
 "cells": [
  {
   "cell_type": "markdown",
   "id": "9f2119b2",
   "metadata": {},
   "source": [
    "# Loading data"
   ]
  },
  {
   "cell_type": "code",
   "execution_count": 9,
   "id": "67213221",
   "metadata": {
    "tags": []
   },
   "outputs": [],
   "source": [
    "import pandas as pd\n",
    "import numpy as np\n",
    "import matplotlib.pyplot as plt\n",
    "from mpl_toolkits.mplot3d import Axes3D"
   ]
  },
  {
   "cell_type": "code",
   "execution_count": 10,
   "id": "3cd49f99-0e18-46bd-a5fa-caf7b9299852",
   "metadata": {
    "scrolled": true,
    "tags": []
   },
   "outputs": [
    {
     "data": {
      "text/html": [
       "<div>\n",
       "<style scoped>\n",
       "    .dataframe tbody tr th:only-of-type {\n",
       "        vertical-align: middle;\n",
       "    }\n",
       "\n",
       "    .dataframe tbody tr th {\n",
       "        vertical-align: top;\n",
       "    }\n",
       "\n",
       "    .dataframe thead th {\n",
       "        text-align: right;\n",
       "    }\n",
       "</style>\n",
       "<table border=\"1\" class=\"dataframe\">\n",
       "  <thead>\n",
       "    <tr style=\"text-align: right;\">\n",
       "      <th></th>\n",
       "      <th>Buraxilish ili</th>\n",
       "      <th>Yurush</th>\n",
       "      <th>Qiymet</th>\n",
       "    </tr>\n",
       "  </thead>\n",
       "  <tbody>\n",
       "    <tr>\n",
       "      <th>0</th>\n",
       "      <td>1999</td>\n",
       "      <td>366 000 km</td>\n",
       "      <td>12500 AZN</td>\n",
       "    </tr>\n",
       "    <tr>\n",
       "      <th>1</th>\n",
       "      <td>2014</td>\n",
       "      <td>102 000 km</td>\n",
       "      <td>31500 $</td>\n",
       "    </tr>\n",
       "    <tr>\n",
       "      <th>2</th>\n",
       "      <td>2002</td>\n",
       "      <td>469 700 km</td>\n",
       "      <td>11700 AZN</td>\n",
       "    </tr>\n",
       "    <tr>\n",
       "      <th>3</th>\n",
       "      <td>1998</td>\n",
       "      <td>556 680 km</td>\n",
       "      <td>9700 AZN</td>\n",
       "    </tr>\n",
       "    <tr>\n",
       "      <th>4</th>\n",
       "      <td>2000</td>\n",
       "      <td>300 000 km</td>\n",
       "      <td>12700 AZN</td>\n",
       "    </tr>\n",
       "  </tbody>\n",
       "</table>\n",
       "</div>"
      ],
      "text/plain": [
       "   Buraxilish ili      Yurush     Qiymet\n",
       "0            1999  366 000 km  12500 AZN\n",
       "1            2014  102 000 km    31500 $\n",
       "2            2002  469 700 km  11700 AZN\n",
       "3            1998  556 680 km   9700 AZN\n",
       "4            2000  300 000 km  12700 AZN"
      ]
     },
     "execution_count": 10,
     "metadata": {},
     "output_type": "execute_result"
    }
   ],
   "source": [
    "data = pd.read_csv(\"turboaz.csv\")[[\"Buraxilish ili\", \"Yurush\", \"Qiymet\"]]\n",
    "data.head() #showing few rows"
   ]
  },
  {
   "cell_type": "code",
   "execution_count": 11,
   "id": "00213802",
   "metadata": {},
   "outputs": [
    {
     "name": "stdout",
     "output_type": "stream",
     "text": [
      "['12500 AZN' '31500 $' '11700 AZN' '9700 AZN' '12700 AZN' '11200 AZN'\n",
      " '13800 AZN' '11400 AZN' '8500 AZN' '6800 AZN' '11300 AZN' '9300 AZN'\n",
      " '12800 AZN' '7300 AZN' '12400 AZN' '7350 AZN' '10500 AZN' '12300 AZN'\n",
      " '10900 AZN' '14000 AZN' '10700 AZN' '7500 AZN' '8300 AZN' '8600 AZN'\n",
      " '12650 AZN' '11800 AZN' '12000 AZN' '11900 AZN' '32700 $' '50999 $'\n",
      " '9500 AZN' '11000 AZN' '9000 AZN' '10400 AZN' '11600 AZN' '10850 AZN'\n",
      " '36500 $' '10800 AZN' '10750 AZN' '9900 AZN' '10000 AZN' '6900 AZN'\n",
      " '18500 AZN' '8700 AZN' '11500 AZN' '8200 AZN' '7800 AZN' '8900 AZN'\n",
      " '10300 AZN' '8400 AZN' '7900 AZN' '10600 AZN' '56500 $' '15400 AZN'\n",
      " '12900 AZN' '37000 $' '18400 $' '9100 AZN' '9800 AZN' '55000 $'\n",
      " '10200 AZN' '10950 AZN' '16800 AZN' '14300 AZN' '13000 AZN' '20800 $'\n",
      " '12200 AZN' '15000 AZN' '8000 AZN' '15300 AZN' '15800 $' '4500 AZN'\n",
      " '19800 $' '13300 AZN' '7700 AZN' '29000 $' '13900 AZN' '9200 AZN'\n",
      " '7000 AZN' '12600 AZN' '8800 AZN' '6000 AZN' '13100 AZN' '13500 AZN'\n",
      " '14200 AZN' '10450 AZN' '16500 AZN' '11100 AZN' '14900 AZN' '13252 AZN'\n",
      " '46000 $' '8100 AZN' '14500 AZN' '11450 AZN' '5800 AZN' '33900 $'\n",
      " '6500 $' '31500 AZN' '13400 AZN' '6500 AZN' '10999 AZN' '11399 AZN'\n",
      " '17000 $' '14800 AZN' '28800 AZN' '15500 AZN' '15600 AZN' '9600 AZN'\n",
      " '21900 $' '11850 AZN' '12100 AZN' '16600 AZN' '7200 AZN' '13375 AZN'\n",
      " '17500 $' '12550 AZN' '29900 AZN' '12850 AZN' '16000 AZN' '21500 AZN'\n",
      " '19000 $' '1130 AZN' '8550 AZN' '18900 $' '4300 AZN' '5900 $' '9250 AZN'\n",
      " '13700 AZN' '53500 $' '6600 AZN' '20500 $' '9999 AZN' '6300 AZN'\n",
      " '7450 AZN' '7400 AZN' '13600 AZN' '22500 $' '6700 AZN' '34900 $'\n",
      " '12250 AZN' '24900 $' '19800 AZN' '7600 AZN' '27500 AZN' '10100 AZN'\n",
      " '25500 AZN' '15500 $' '11250 AZN' '6400 AZN' '13750 AZN' '8250 AZN'\n",
      " '13333 AZN' '20400 $' '22000 AZN' '31000 AZN' '16500 $' '11950 AZN'\n",
      " '49500 $' '19600 $' '19700 $' '18700 $' '10650 AZN' '38000 $' '5400 AZN'\n",
      " '9350 AZN' '19600 AZN' '35500 $' '13200 AZN' '99500 AZN' '23800 AZN'\n",
      " '37500 $' '26500 AZN' '8150 AZN' '12577 AZN' '14050 AZN']\n"
     ]
    }
   ],
   "source": [
    "print(data['Qiymet'].unique())"
   ]
  },
  {
   "cell_type": "code",
   "execution_count": 12,
   "id": "03a89c0e",
   "metadata": {},
   "outputs": [],
   "source": [
    "# defining convert(string to int) function for column 'Yurush'\n",
    "def yurush_string_to_int(data):\n",
    "    data['Yurush'] = data['Yurush'].str.replace(' km', '').str.replace(' ', '').astype(int) "
   ]
  },
  {
   "cell_type": "code",
   "execution_count": 13,
   "id": "bb1cb629",
   "metadata": {
    "scrolled": false
   },
   "outputs": [
    {
     "data": {
      "text/html": [
       "<div>\n",
       "<style scoped>\n",
       "    .dataframe tbody tr th:only-of-type {\n",
       "        vertical-align: middle;\n",
       "    }\n",
       "\n",
       "    .dataframe tbody tr th {\n",
       "        vertical-align: top;\n",
       "    }\n",
       "\n",
       "    .dataframe thead th {\n",
       "        text-align: right;\n",
       "    }\n",
       "</style>\n",
       "<table border=\"1\" class=\"dataframe\">\n",
       "  <thead>\n",
       "    <tr style=\"text-align: right;\">\n",
       "      <th></th>\n",
       "      <th>Buraxilish ili</th>\n",
       "      <th>Yurush</th>\n",
       "      <th>Qiymet</th>\n",
       "    </tr>\n",
       "  </thead>\n",
       "  <tbody>\n",
       "    <tr>\n",
       "      <th>0</th>\n",
       "      <td>1999</td>\n",
       "      <td>366000</td>\n",
       "      <td>12500 AZN</td>\n",
       "    </tr>\n",
       "    <tr>\n",
       "      <th>1</th>\n",
       "      <td>2014</td>\n",
       "      <td>102000</td>\n",
       "      <td>31500 $</td>\n",
       "    </tr>\n",
       "    <tr>\n",
       "      <th>2</th>\n",
       "      <td>2002</td>\n",
       "      <td>469700</td>\n",
       "      <td>11700 AZN</td>\n",
       "    </tr>\n",
       "    <tr>\n",
       "      <th>3</th>\n",
       "      <td>1998</td>\n",
       "      <td>556680</td>\n",
       "      <td>9700 AZN</td>\n",
       "    </tr>\n",
       "    <tr>\n",
       "      <th>4</th>\n",
       "      <td>2000</td>\n",
       "      <td>300000</td>\n",
       "      <td>12700 AZN</td>\n",
       "    </tr>\n",
       "  </tbody>\n",
       "</table>\n",
       "</div>"
      ],
      "text/plain": [
       "   Buraxilish ili  Yurush     Qiymet\n",
       "0            1999  366000  12500 AZN\n",
       "1            2014  102000    31500 $\n",
       "2            2002  469700  11700 AZN\n",
       "3            1998  556680   9700 AZN\n",
       "4            2000  300000  12700 AZN"
      ]
     },
     "execution_count": 13,
     "metadata": {},
     "output_type": "execute_result"
    }
   ],
   "source": [
    "yurush_string_to_int(data) #calling the convert function\n",
    "data.head() #displaying"
   ]
  },
  {
   "cell_type": "code",
   "execution_count": 14,
   "id": "3c04cd68",
   "metadata": {},
   "outputs": [],
   "source": [
    "def qiymet_dollar_to_azn(data):\n",
    "    converted_qiymet = [float(price.replace('$', '').strip()) * 1.7 if '$' in price else float(price.replace(' AZN', '').strip()) for price in data['Qiymet']]\n",
    "    data['Qiymet'] = converted_qiymet"
   ]
  },
  {
   "cell_type": "code",
   "execution_count": 15,
   "id": "2c4c7f06",
   "metadata": {},
   "outputs": [
    {
     "data": {
      "text/html": [
       "<div>\n",
       "<style scoped>\n",
       "    .dataframe tbody tr th:only-of-type {\n",
       "        vertical-align: middle;\n",
       "    }\n",
       "\n",
       "    .dataframe tbody tr th {\n",
       "        vertical-align: top;\n",
       "    }\n",
       "\n",
       "    .dataframe thead th {\n",
       "        text-align: right;\n",
       "    }\n",
       "</style>\n",
       "<table border=\"1\" class=\"dataframe\">\n",
       "  <thead>\n",
       "    <tr style=\"text-align: right;\">\n",
       "      <th></th>\n",
       "      <th>Buraxilish ili</th>\n",
       "      <th>Yurush</th>\n",
       "      <th>Qiymet</th>\n",
       "    </tr>\n",
       "  </thead>\n",
       "  <tbody>\n",
       "    <tr>\n",
       "      <th>0</th>\n",
       "      <td>1999</td>\n",
       "      <td>366000</td>\n",
       "      <td>12500.0</td>\n",
       "    </tr>\n",
       "    <tr>\n",
       "      <th>1</th>\n",
       "      <td>2014</td>\n",
       "      <td>102000</td>\n",
       "      <td>53550.0</td>\n",
       "    </tr>\n",
       "    <tr>\n",
       "      <th>2</th>\n",
       "      <td>2002</td>\n",
       "      <td>469700</td>\n",
       "      <td>11700.0</td>\n",
       "    </tr>\n",
       "    <tr>\n",
       "      <th>3</th>\n",
       "      <td>1998</td>\n",
       "      <td>556680</td>\n",
       "      <td>9700.0</td>\n",
       "    </tr>\n",
       "    <tr>\n",
       "      <th>4</th>\n",
       "      <td>2000</td>\n",
       "      <td>300000</td>\n",
       "      <td>12700.0</td>\n",
       "    </tr>\n",
       "  </tbody>\n",
       "</table>\n",
       "</div>"
      ],
      "text/plain": [
       "   Buraxilish ili  Yurush   Qiymet\n",
       "0            1999  366000  12500.0\n",
       "1            2014  102000  53550.0\n",
       "2            2002  469700  11700.0\n",
       "3            1998  556680   9700.0\n",
       "4            2000  300000  12700.0"
      ]
     },
     "execution_count": 15,
     "metadata": {},
     "output_type": "execute_result"
    }
   ],
   "source": [
    "qiymet_dollar_to_azn(data)\n",
    "data.head() "
   ]
  },
  {
   "cell_type": "markdown",
   "id": "8f24528f",
   "metadata": {},
   "source": [
    "# Visualization"
   ]
  },
  {
   "cell_type": "code",
   "execution_count": null,
   "id": "61a80086",
   "metadata": {},
   "outputs": [],
   "source": []
  }
 ],
 "metadata": {
  "kernelspec": {
   "display_name": "Python 3 (ipykernel)",
   "language": "python",
   "name": "python3"
  },
  "language_info": {
   "codemirror_mode": {
    "name": "ipython",
    "version": 3
   },
   "file_extension": ".py",
   "mimetype": "text/x-python",
   "name": "python",
   "nbconvert_exporter": "python",
   "pygments_lexer": "ipython3",
   "version": "3.11.5"
  },
  "widgets": {
   "application/vnd.jupyter.widget-state+json": {
    "state": {},
    "version_major": 2,
    "version_minor": 0
   }
  }
 },
 "nbformat": 4,
 "nbformat_minor": 5
}
